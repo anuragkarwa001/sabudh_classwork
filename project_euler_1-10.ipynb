{
 "cells": [
  {
   "cell_type": "markdown",
   "metadata": {},
   "source": [
    "# problem no 1"
   ]
  },
  {
   "cell_type": "code",
   "execution_count": null,
   "metadata": {},
   "outputs": [],
   "source": [
    "list1=[x for x in range(1,1000) if x%3==0 or x%5==0]\n",
    "total=0\n",
    "for i in list1:\n",
    "    total=total+i\n",
    "print(\"the sum of the multiples of 3 and 5 below 1000 is \",total)\n",
    "#or we can use the sum function \n",
    "print(sum(list1))"
   ]
  },
  {
   "cell_type": "markdown",
   "metadata": {},
   "source": [
    "# problem no 2"
   ]
  },
  {
   "cell_type": "code",
   "execution_count": null,
   "metadata": {},
   "outputs": [],
   "source": [
    "a=1\n",
    "b=2\n",
    "total=2\n",
    "while True:\n",
    "    third=a+b\n",
    "    if third<=4000000:\n",
    "        if third%2==0:\n",
    "            total=total+third\n",
    "        a=b\n",
    "        b=third\n",
    "    else:\n",
    "        break\n",
    "\n",
    "    \n",
    "  \n",
    "print(total)"
   ]
  },
  {
   "cell_type": "markdown",
   "metadata": {},
   "source": [
    "# problem no 3 largest prime "
   ]
  },
  {
   "cell_type": "code",
   "execution_count": null,
   "metadata": {},
   "outputs": [],
   "source": [
    "num=600851475143\n",
    "i=2\n",
    "list1=[]\n",
    "while i<num:\n",
    "    if num%i==0:\n",
    "        list1.append(i)\n",
    "        num=num//i\n",
    "        i=i-1\n",
    "    i=i+1\n",
    "while len(list1)!=0:\n",
    "    m=max(list1)\n",
    "    flag=True\n",
    "    for i in range(2,m):\n",
    "        if m%i==0:\n",
    "            flag=False\n",
    "            break\n",
    "    if flag==True:\n",
    "        print(\"max prime factor is \",m)\n",
    "        break\n",
    "    else:\n",
    "        list1.remove(m)"
   ]
  },
  {
   "cell_type": "markdown",
   "metadata": {},
   "source": [
    "# problem no 4 largest 3 digit palindrome"
   ]
  },
  {
   "cell_type": "code",
   "execution_count": null,
   "metadata": {},
   "outputs": [],
   "source": [
    "\n",
    "list1 = []\n",
    "for i in range(100, 1000):\n",
    "    for j in range(i+1, 1000):\n",
    "        product = str(i * j)s\n",
    "        if product==product[::-1]:\n",
    "            list1.append(int(product))\n",
    "\n",
    "print(\"the max product which is palindrome is \",max(list1))\n"
   ]
  },
  {
   "cell_type": "markdown",
   "metadata": {},
   "source": [
    "# problem no 5 "
   ]
  },
  {
   "cell_type": "code",
   "execution_count": null,
   "metadata": {},
   "outputs": [],
   "source": [
    "count=0\n",
    "l=1\n",
    "def gcd(a,b):\n",
    "    \"\"\"Compute the greatest common divisor of a and b\"\"\"\n",
    "    while b > 0:\n",
    "        a, b = b, a % b\n",
    "    return a\n",
    "    \n",
    "def lcm(a, b):\n",
    "    \"\"\"Compute the lowest common multiple of a and b\"\"\"\n",
    "    return a * b / gcd(a, b)\n",
    "list1=[]\n",
    "for i in range(1,21):\n",
    "    list1.append(i)\n",
    "for i in list1:\n",
    "    l=lcm(l,i)\n",
    "print(\"lcm is\",l)"
   ]
  },
  {
   "cell_type": "markdown",
   "metadata": {},
   "source": [
    "# problem no  6"
   ]
  },
  {
   "cell_type": "code",
   "execution_count": null,
   "metadata": {},
   "outputs": [],
   "source": [
    "num=1\n",
    "sum_square=0\n",
    "square_sum=0\n",
    "total=0\n",
    "for i in range(1,101):\n",
    "    sum_square=sum_square+i*i\n",
    "for i in range(1,101):\n",
    "    total=total+i\n",
    "square_sum=total**2\n",
    "print(abs(square_sum-sum_square))"
   ]
  },
  {
   "cell_type": "markdown",
   "metadata": {},
   "source": [
    "# problem no 7 1001 prime number "
   ]
  },
  {
   "cell_type": "code",
   "execution_count": null,
   "metadata": {},
   "outputs": [],
   "source": [
    "count=0\n",
    "num=2\n",
    "while True:\n",
    "    flag=True\n",
    "    for i in range(2,num):\n",
    "        if num%i==0:\n",
    "            \n",
    "            flag=False\n",
    "            break\n",
    "    if flag==True:\n",
    "        \n",
    "        count=count+1\n",
    "    \n",
    "    if count==10001:\n",
    "        print(\"number is \",num)\n",
    "        break\n",
    "    num=num+1\n",
    "        "
   ]
  },
  {
   "cell_type": "markdown",
   "metadata": {},
   "source": [
    "# problem no 8 The 13 adjacent digits in the 1000-digit number "
   ]
  },
  {
   "cell_type": "code",
   "execution_count": null,
   "metadata": {},
   "outputs": [],
   "source": [
    "f=open(\"1000digit.txt\",\"r\")\n",
    "temp_list=[]\n",
    "for str in f:\n",
    "    for ch in str:\n",
    "        if ch!='\\n':\n",
    "            temp_list.append(int(ch))\n",
    "max1=1\n",
    "index=0\n",
    "for i in range(0,13):\n",
    "    max1=max1*temp_list[i]\n",
    "\n",
    "for j in range(0,len(temp_list)-13):\n",
    "    temp_max=1\n",
    "    for k in range(j,j+13):\n",
    "        temp_max=temp_max*temp_list[k]\n",
    "    if temp_max>max1:\n",
    "        max1=temp_max\n",
    "        index=j\n",
    "print(\"index is\",index)\n",
    "print(\"max product is \",max1)\n",
    "print(\"digits are\")\n",
    "for i in range(index,index+13):\n",
    "    print(temp_list[i],end=\"\")"
   ]
  },
  {
   "cell_type": "markdown",
   "metadata": {},
   "source": [
    "# problem no 9 pythagorean triplet "
   ]
  },
  {
   "cell_type": "code",
   "execution_count": null,
   "metadata": {},
   "outputs": [],
   "source": [
    "import sys\n",
    "for i in range(1,1001):\n",
    "    for j in range(1,501):\n",
    "        for k in range(1,250):\n",
    "            if i*i=j*j+k*k and i+j+k=1000:\n",
    "                print(i,j,k)\n",
    "                print(\"product is \",i*j*k)\n",
    "                sys.exit()\n"
   ]
  },
  {
   "cell_type": "markdown",
   "metadata": {},
   "source": [
    "# problem no 10 sum of prime no below two million\n"
   ]
  },
  {
   "cell_type": "code",
   "execution_count": 3,
   "metadata": {},
   "outputs": [
    {
     "name": "stdout",
     "output_type": "stream",
     "text": [
      "142913828922\n"
     ]
    }
   ],
   "source": [
    "def isPrime(n):\n",
    "    for i in range(2,int(n**0.5)+1):\n",
    "        if n%i==0:\n",
    "            return False\n",
    "\n",
    "    return True\n",
    "num=2\n",
    "total=0\n",
    "while num<2000000:\n",
    "    if isPrime(num):\n",
    "        total=total+num\n",
    "               \n",
    "    num=num+1\n",
    "    \n",
    "print(total)\n",
    "            \n",
    "        \n",
    "    \n",
    "    "
   ]
  },
  {
   "cell_type": "code",
   "execution_count": null,
   "metadata": {},
   "outputs": [],
   "source": []
  }
 ],
 "metadata": {
  "kernelspec": {
   "display_name": "Python 3",
   "language": "python",
   "name": "python3"
  },
  "language_info": {
   "codemirror_mode": {
    "name": "ipython",
    "version": 3
   },
   "file_extension": ".py",
   "mimetype": "text/x-python",
   "name": "python",
   "nbconvert_exporter": "python",
   "pygments_lexer": "ipython3",
   "version": "3.7.3"
  }
 },
 "nbformat": 4,
 "nbformat_minor": 2
}
