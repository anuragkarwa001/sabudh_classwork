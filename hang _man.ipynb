{
 "cells": [
  {
   "cell_type": "code",
   "execution_count": 1,
   "metadata": {},
   "outputs": [
    {
     "name": "stdout",
     "output_type": "stream",
     "text": [
      "['-', '-', '-', '-', '-', '-']\n",
      "enter the character a\n",
      "['-', 'a', '-', '-', '-', '-']\n",
      "enter the character s\n",
      "['s', 'a', '-', '-', '-', '-']\n",
      "enter the character b\n",
      "['s', 'a', 'b', '-', '-', '-']\n",
      "enter the character h\n",
      "['s', 'a', 'b', '-', '-', 'h']\n",
      "enter the character n\n",
      "['s', 'a', 'b', '-', '-', 'h']\n",
      "enter the character u\n",
      "['s', 'a', 'b', 'u', '-', 'h']\n",
      "enter the character d\n",
      "['s', 'a', 'b', 'u', 'd', 'h']\n",
      "enter the character \n",
      "['s', 'a', 'b', 'u', 'd', 'h']\n",
      "enter the character \n",
      "['s', 'a', 'b', 'u', 'd', 'h']\n",
      "enter the character \n",
      "['s', 'a', 'b', 'u', 'd', 'h']\n",
      "['s', 'a', 'b', 'u', 'd', 'h']\n"
     ]
    }
   ],
   "source": [
    "import random\n",
    "guess=[]\n",
    "list=[\"anurag\",'karwa','weds','sabudh']\n",
    "rand=random.choice(list)\n",
    "n=len(rand)\n",
    "for x in range (1,n+1):\n",
    "    guess.append('-')\n",
    "print(guess)\n",
    "for i in range(0,10):\n",
    "    g=input(\"enter the character \")\n",
    "    for x in  range(0,n):\n",
    "        if rand[x]==g:\n",
    "            guess[x]=g\n",
    "    print(guess)\n",
    "print(guess)"
   ]
  },
  {
   "cell_type": "code",
   "execution_count": null,
   "metadata": {},
   "outputs": [],
   "source": [
    "\n"
   ]
  },
  {
   "cell_type": "code",
   "execution_count": null,
   "metadata": {},
   "outputs": [],
   "source": []
  }
 ],
 "metadata": {
  "kernelspec": {
   "display_name": "Python 3",
   "language": "python",
   "name": "python3"
  },
  "language_info": {
   "codemirror_mode": {
    "name": "ipython",
    "version": 3
   },
   "file_extension": ".py",
   "mimetype": "text/x-python",
   "name": "python",
   "nbconvert_exporter": "python",
   "pygments_lexer": "ipython3",
   "version": "3.7.3"
  }
 },
 "nbformat": 4,
 "nbformat_minor": 2
}
