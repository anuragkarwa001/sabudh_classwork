{
 "cells": [
  {
   "cell_type": "code",
   "execution_count": 11,
   "metadata": {},
   "outputs": [
    {
     "name": "stdout",
     "output_type": "stream",
     "text": [
      "enter the string manish garg 1998\n",
      "no of digits  4\n",
      "no of alphabets 10\n",
      "no of special character 2\n"
     ]
    }
   ],
   "source": [
    "digit=0\n",
    "alpha=0\n",
    "special=0\n",
    "str=input(\"enter the string \")\n",
    "for ch in str:\n",
    "    if ch.isdigit():\n",
    "        digit=digit+1\n",
    "    elif ch.isalpha():\n",
    "        alpha=alpha+1\n",
    "    else:\n",
    "        special=special+1\n",
    "print(\"no of digits \",digit)\n",
    "print(\"no of alphabets\",alpha)\n",
    "print(\"no of special character\",special)"
   ]
  },
  {
   "cell_type": "code",
   "execution_count": null,
   "metadata": {},
   "outputs": [],
   "source": []
  }
 ],
 "metadata": {
  "kernelspec": {
   "display_name": "Python 3",
   "language": "python",
   "name": "python3"
  },
  "language_info": {
   "codemirror_mode": {
    "name": "ipython",
    "version": 3
   },
   "file_extension": ".py",
   "mimetype": "text/x-python",
   "name": "python",
   "nbconvert_exporter": "python",
   "pygments_lexer": "ipython3",
   "version": "3.7.3"
  }
 },
 "nbformat": 4,
 "nbformat_minor": 2
}
