{
 "cells": [
  {
   "cell_type": "code",
   "execution_count": 30,
   "metadata": {},
   "outputs": [
    {
     "name": "stdout",
     "output_type": "stream",
     "text": [
      "enter a 1\n",
      "enter b 0\n",
      "helllo\n",
      "finally done division \n"
     ]
    }
   ],
   "source": [
    "a=int(input(\"enter a \"))\n",
    "b=int(input(\"enter b \"))\n",
    "try: \n",
    "    if b==0:\n",
    "        raise NameError(\"helllo\")\n",
    "  \n",
    "    \n",
    "\n",
    "except Exception :\n",
    "    print(ex)\n",
    "\n",
    "else:\n",
    "        print(\"the result is \",res)\n",
    "finally:\n",
    "     print(\"finally done division \")"
   ]
  },
  {
   "cell_type": "code",
   "execution_count": null,
   "metadata": {},
   "outputs": [],
   "source": []
  },
  {
   "cell_type": "code",
   "execution_count": null,
   "metadata": {},
   "outputs": [],
   "source": []
  }
 ],
 "metadata": {
  "kernelspec": {
   "display_name": "Python 3",
   "language": "python",
   "name": "python3"
  },
  "language_info": {
   "codemirror_mode": {
    "name": "ipython",
    "version": 3
   },
   "file_extension": ".py",
   "mimetype": "text/x-python",
   "name": "python",
   "nbconvert_exporter": "python",
   "pygments_lexer": "ipython3",
   "version": "3.7.3"
  }
 },
 "nbformat": 4,
 "nbformat_minor": 2
}
