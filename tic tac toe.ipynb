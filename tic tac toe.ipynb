{
 "cells": [
  {
   "cell_type": "code",
   "execution_count": 4,
   "metadata": {},
   "outputs": [
    {
     "name": "stdout",
     "output_type": "stream",
     "text": [
      "enter you choice r p s p\n",
      "computer chose p\n",
      "draw\n",
      "enter you choice r p s p\n",
      "computer chose p\n",
      "draw\n",
      "enter you choice r p s p\n",
      "computer chose r\n",
      "player wins\n",
      "player wins in final\n"
     ]
    }
   ],
   "source": [
    "from random import randint\n",
    "p=0;\n",
    "c=0;\n",
    "for i in range(1,4):\n",
    "    player=input(\"enter you choice r p s \")\n",
    "    n=randint(1,3)\n",
    "    if n==1:\n",
    "        computer='r'\n",
    "    elif n==2:\n",
    "        computer='p'\n",
    "    else :\n",
    "        computer='s'\n",
    "    print(\"computer chose %s\"%computer)\n",
    "    \n",
    "    if player==computer:\n",
    "        print(\"draw\")\n",
    "    elif player=='r' and computer=='p':\n",
    "        c=c+1;\n",
    "        print(\"computer win\")\n",
    "    elif player=='r' and computer=='s':\n",
    "        p=p+1 \n",
    "        print(\"player wins\")\n",
    "    elif player=='p' and computer=='r':\n",
    "        p=p+1\n",
    "        print(\"player wins\")\n",
    "    elif player=='p' and computer=='s':\n",
    "        c=c+1\n",
    "        print(\"computer wins\")\n",
    "    elif player=='s' and computer=='p':\n",
    "        p=p+1\n",
    "        print(\"player win\")\n",
    "    elif player=='s' and computer=='r':\n",
    "        c=c+1\n",
    "        print(\"computer wins\")\n",
    "if c>p:\n",
    "    print(\"computer wins in final\")\n",
    "elif p>c:\n",
    "    print(\"player wins in final\")\n",
    "else :\n",
    "    print(\"draw happens in final\")"
   ]
  },
  {
   "cell_type": "code",
   "execution_count": null,
   "metadata": {},
   "outputs": [],
   "source": []
  },
  {
   "cell_type": "code",
   "execution_count": null,
   "metadata": {},
   "outputs": [],
   "source": []
  }
 ],
 "metadata": {
  "kernelspec": {
   "display_name": "Python 3",
   "language": "python",
   "name": "python3"
  },
  "language_info": {
   "codemirror_mode": {
    "name": "ipython",
    "version": 3
   },
   "file_extension": ".py",
   "mimetype": "text/x-python",
   "name": "python",
   "nbconvert_exporter": "python",
   "pygments_lexer": "ipython3",
   "version": "3.7.3"
  }
 },
 "nbformat": 4,
 "nbformat_minor": 2
}
