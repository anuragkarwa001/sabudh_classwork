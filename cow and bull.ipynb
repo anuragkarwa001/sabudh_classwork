{
 "cells": [
  {
   "cell_type": "code",
   "execution_count": 5,
   "metadata": {},
   "outputs": [
    {
     "name": "stdout",
     "output_type": "stream",
     "text": [
      "4133\n",
      "[4, 1, 3, 3] random number\n",
      "enter the number 4444\n",
      "[4, 4, 4, 4] entered number by user\n",
      "1 cows\n",
      "0  bulls\n",
      "[4, 1, 3, 3]\n",
      "enter the number 3314\n",
      "[3, 3, 1, 4] entered number by user\n",
      "0 cows\n",
      "4  bulls\n",
      "[4, 1, 3, 3]\n",
      "enter the number 4313\n",
      "[4, 3, 1, 3] entered number by user\n",
      "2 cows\n",
      "2  bulls\n",
      "[4, 1, 3, 3]\n",
      "enter the number 4133\n",
      "[4, 1, 3, 3] entered number by user\n",
      "4 cows\n",
      "0  bulls\n",
      "[4, 1, 3, 3]\n",
      "you guessed it correct and took 4 chances\n"
     ]
    }
   ],
   "source": [
    "from random import randint \n",
    "import copy \n",
    "\n",
    "def check_cows(a,b):\n",
    "    if a==b:\n",
    "        global cows\n",
    "        cows=cows+1\n",
    "    return \n",
    "no_guess=0\n",
    "\n",
    "num=randint(999,10000)\n",
    "print(num)\n",
    "list1=[]\n",
    "\n",
    "for i in range(0,4):\n",
    "    list1.append((num%10))\n",
    "    num=int(num/10);\n",
    "list1.reverse();\n",
    "print(list1,\"random number\")\n",
    "while(True):\n",
    "    user_list=[]\n",
    "    cows=0\n",
    "    bulls=0\n",
    "    guess=int(input(\"enter the number \"))\n",
    "    for i in range(0,4):\n",
    "        user_list.append((guess%10))\n",
    "        guess=int(guess/10);\n",
    "    user_list.reverse()\n",
    "    print(user_list,\"entered number by user\")\n",
    "\n",
    "    list(map(check_cows,list1,user_list))\n",
    "    \n",
    "    print(cows,\"cows\")\n",
    "    list2=copy.copy(list1)\n",
    "    for i in user_list:\n",
    "        if i in list2:\n",
    "            list2.remove(i)\n",
    "            bulls=bulls+1\n",
    "    \n",
    "    \n",
    "    print((bulls-cows),\" bulls\")\n",
    "    no_guess=no_guess+1\n",
    "    print(list1)\n",
    "    if cows==4:\n",
    "        print(\"you guessed it correct and took %d chances\"%no_guess)\n",
    "        break"
   ]
  },
  {
   "cell_type": "code",
   "execution_count": null,
   "metadata": {},
   "outputs": [],
   "source": []
  },
  {
   "cell_type": "code",
   "execution_count": null,
   "metadata": {},
   "outputs": [],
   "source": []
  }
 ],
 "metadata": {
  "kernelspec": {
   "display_name": "Python 3",
   "language": "python",
   "name": "python3"
  },
  "language_info": {
   "codemirror_mode": {
    "name": "ipython",
    "version": 3
   },
   "file_extension": ".py",
   "mimetype": "text/x-python",
   "name": "python",
   "nbconvert_exporter": "python",
   "pygments_lexer": "ipython3",
   "version": "3.7.3"
  }
 },
 "nbformat": 4,
 "nbformat_minor": 2
}
