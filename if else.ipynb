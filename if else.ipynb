{
 "cells": [
  {
   "cell_type": "markdown",
   "metadata": {},
   "source": [
    "# maximum out of 3 "
   ]
  },
  {
   "cell_type": "code",
   "execution_count": 4,
   "metadata": {},
   "outputs": [
    {
     "name": "stdout",
     "output_type": "stream",
     "text": [
      "a is gratest\n"
     ]
    }
   ],
   "source": [
    "a=2\n",
    "b=1\n",
    "c=2\n",
    "def gratest(a,b,c):\n",
    "    if(a>=b):\n",
    "        if(a>=c):\n",
    "            print(\"a is gratest\")\n",
    "        else:\n",
    "            print(\"c is gratest\")\n",
    "    elif b>=c:\n",
    "        print(\"b is gratest\")\n",
    "    else:\n",
    "        print(\"c is gratest\")\n",
    "gratest(a,b,c)\n",
    "        "
   ]
  },
  {
   "cell_type": "code",
   "execution_count": null,
   "metadata": {},
   "outputs": [],
   "source": []
  }
 ],
 "metadata": {
  "kernelspec": {
   "display_name": "Python 3",
   "language": "python",
   "name": "python3"
  },
  "language_info": {
   "codemirror_mode": {
    "name": "ipython",
    "version": 3
   },
   "file_extension": ".py",
   "mimetype": "text/x-python",
   "name": "python",
   "nbconvert_exporter": "python",
   "pygments_lexer": "ipython3",
   "version": "3.7.3"
  }
 },
 "nbformat": 4,
 "nbformat_minor": 2
}
