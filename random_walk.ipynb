{
 "cells": [
  {
   "cell_type": "code",
   "execution_count": 23,
   "metadata": {},
   "outputs": [
    {
     "name": "stdout",
     "output_type": "stream",
     "text": [
      "probability is 0.845\n"
     ]
    }
   ],
   "source": [
    "\n",
    "import numpy as np\n",
    "pos=0\n",
    "\n",
    "\n",
    "fav_chances=0\n",
    "def step_forward(num):\n",
    "    global pos\n",
    "   \n",
    "    if num==1 or num==2:\n",
    "        if pos>0:\n",
    "            pos=pos-1\n",
    "    elif num==3 or num==4 or num==5:\n",
    "        pos=pos+1\n",
    "    else:\n",
    "        pos=pos+np.random.randint(1,7)\n",
    "   \n",
    "    return\n",
    "    \n",
    "def throw():\n",
    "    num=np.random.randint(1,7)\n",
    "    step_forward(num)\n",
    "    return\n",
    "\n",
    "\n",
    "for i in range(0,200):\n",
    "    j=0\n",
    "    while j<100:\n",
    "        throw()\n",
    "        j=j+1\n",
    "    if pos>=60:\n",
    "        fav_chances=fav_chances+1\n",
    "    pos=0\n",
    "    \n",
    "    \n",
    "probability=fav_chances/200\n",
    "print(\"probability is\",probability)"
   ]
  },
  {
   "cell_type": "markdown",
   "metadata": {},
   "source": [
    "# probability distribution "
   ]
  },
  {
   "cell_type": "code",
   "execution_count": 22,
   "metadata": {},
   "outputs": [
    {
     "name": "stdout",
     "output_type": "stream",
     "text": [
      "probability is 0.01\n"
     ]
    }
   ],
   "source": [
    "import numpy as np\n",
    "pos=0\n",
    "\n",
    "\n",
    "fav_chances=0\n",
    "def step_forward(num):\n",
    "    global pos\n",
    "   \n",
    "    if num==1 or num==2:\n",
    "        if pos>0:\n",
    "            pos=pos-1\n",
    "    elif num==3 or num==4 or num==5:\n",
    "        pos=pos+1\n",
    "    else:\n",
    "        pos=pos+np.random.choice([1,2,3,4,5,6],p=[0.2, 0.3, 0.2, 0.1, 0.1, 0.1])\n",
    "   \n",
    "    return\n",
    "    \n",
    "def throw():\n",
    "    num=np.random.choice([1,2,3,4,5,6],p=[0.2, 0.3, 0.2, 0.1, 0.1, 0.1])\n",
    "    step_forward(num)\n",
    "    return\n",
    "\n",
    "\n",
    "for i in range(0,200):\n",
    "    j=0\n",
    "    while j<100:\n",
    "        throw()\n",
    "        j=j+1\n",
    "    if pos>=60:\n",
    "        fav_chances=fav_chances+1\n",
    "    pos=0\n",
    "    \n",
    "    \n",
    "probability=fav_chances/200\n",
    "print(\"probability is\",probability)"
   ]
  },
  {
   "cell_type": "code",
   "execution_count": null,
   "metadata": {},
   "outputs": [],
   "source": []
  },
  {
   "cell_type": "code",
   "execution_count": null,
   "metadata": {},
   "outputs": [],
   "source": []
  }
 ],
 "metadata": {
  "kernelspec": {
   "display_name": "Python 3",
   "language": "python",
   "name": "python3"
  },
  "language_info": {
   "codemirror_mode": {
    "name": "ipython",
    "version": 3
   },
   "file_extension": ".py",
   "mimetype": "text/x-python",
   "name": "python",
   "nbconvert_exporter": "python",
   "pygments_lexer": "ipython3",
   "version": "3.7.3"
  }
 },
 "nbformat": 4,
 "nbformat_minor": 2
}
