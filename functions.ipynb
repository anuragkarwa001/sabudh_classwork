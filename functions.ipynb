{
 "cells": [
  {
   "cell_type": "code",
   "execution_count": null,
   "metadata": {},
   "outputs": [],
   "source": [
    "def print_hello():\n",
    "    print(\"hello\")\n",
    "    return\n",
    "print_hello()\n",
    "print_hello()\n",
    "\n"
   ]
  },
  {
   "cell_type": "code",
   "execution_count": 18,
   "metadata": {},
   "outputs": [
    {
     "name": "stdout",
     "output_type": "stream",
     "text": [
      "hello aryanshi\n"
     ]
    }
   ],
   "source": [
    "def hello(name):\n",
    "    print(\"hello %s\"%(name))\n",
    "    return\n",
    "hello(\"aryanshi\")"
   ]
  },
  {
   "cell_type": "code",
   "execution_count": 21,
   "metadata": {},
   "outputs": [
    {
     "name": "stdout",
     "output_type": "stream",
     "text": [
      "1\n",
      "7\n"
     ]
    }
   ],
   "source": [
    "def min_2ndmax(l):\n",
    "    '''\n",
    "    this function calculates min and 2nd higest values\n",
    "    '''\n",
    "    min=l[0]\n",
    "    for x in l[1:]:\n",
    "        if x<min:\n",
    "            min=l[0];\n",
    "    max=-2147483648;\n",
    "    max2=-2147483648;     \n",
    "    for x in l:\n",
    "        if x>max:\n",
    "            max2=max\n",
    "            max=x\n",
    "        if x>max2 and x<max:\n",
    "            max2=x\n",
    "            \n",
    "    print(min)\n",
    "    print(max2)\n",
    "    return \n",
    "numbers=[1,2,5,6,7,12]\n",
    "min_2ndmax(numbers)"
   ]
  },
  {
   "cell_type": "markdown",
   "metadata": {},
   "source": [
    "# yield statement \n"
   ]
  },
  {
   "cell_type": "code",
   "execution_count": null,
   "metadata": {},
   "outputs": [],
   "source": [
    "def fibo(num):\n",
    "    if num==1:\n",
    "        print(0)\n",
    "    if num==2:\n",
    "        print(0,1)\n",
    "    if(num>2):\n",
    "        print(0,1,end=\" \")\n",
    "        first=0\n",
    "        second=1\n",
    "        for i in range(3,num):\n",
    "            third=first+second\n",
    "            yield third\n",
    "            first=second;\n",
    "            second=third;\n",
    "    \n",
    "for num in fibo(20):\n",
    "      print(num,end=\" \")\n",
    "    \n",
    "    "
   ]
  },
  {
   "cell_type": "markdown",
   "metadata": {},
   "source": [
    "# mapping filter and lambda expressions"
   ]
  },
  {
   "cell_type": "code",
   "execution_count": 39,
   "metadata": {},
   "outputs": [],
   "source": [
    "import timeit"
   ]
  },
  {
   "cell_type": "code",
   "execution_count": 10,
   "metadata": {},
   "outputs": [
    {
     "name": "stdout",
     "output_type": "stream",
     "text": [
      "192 ns ± 0.0229 ns per loop (mean ± std. dev. of 7 runs, 10000000 loops each)\n"
     ]
    }
   ],
   "source": [
    "l1=[3,2,3]\n",
    "l2=[1,2,3]\n",
    "sum=lambda a,b:a+b\n",
    "%timeit map(sum,l1,l2)"
   ]
  },
  {
   "cell_type": "code",
   "execution_count": 9,
   "metadata": {},
   "outputs": [
    {
     "name": "stdout",
     "output_type": "stream",
     "text": [
      "193 ns ± 0.0654 ns per loop (mean ± std. dev. of 7 runs, 10000000 loops each)\n"
     ]
    }
   ],
   "source": [
    "def sum(a,b):\n",
    "    return a+b\n",
    "\n",
    "l3=[3,2,3]\n",
    "l4=[1,2,3]\n",
    "%timeit map(sum,l1,l2)"
   ]
  },
  {
   "cell_type": "markdown",
   "metadata": {},
   "source": [
    "# legb\n",
    "\n"
   ]
  },
  {
   "cell_type": "code",
   "execution_count": 2,
   "metadata": {},
   "outputs": [
    {
     "name": "stdout",
     "output_type": "stream",
     "text": [
      "2\n",
      "5\n"
     ]
    }
   ],
   "source": [
    "x=5\n",
    "def printx():\n",
    "    x=2\n",
    "    print(x)\n",
    "    return\n",
    "printx()\n",
    "print(x)\n"
   ]
  },
  {
   "cell_type": "markdown",
   "metadata": {},
   "source": [
    "#  function overloading"
   ]
  },
  {
   "cell_type": "code",
   "execution_count": 7,
   "metadata": {},
   "outputs": [
    {
     "name": "stdout",
     "output_type": "stream",
     "text": [
      "5\n"
     ]
    }
   ],
   "source": [
    "#python does not support function overloading \n",
    "def sum(a,b,c):\n",
    "    return a+b+c\n",
    "def sum(a,b):\n",
    "    return a+b\n",
    "    \n",
    "print(sum(2,3))"
   ]
  },
  {
   "cell_type": "markdown",
   "metadata": {},
   "source": []
  }
 ],
 "metadata": {
  "kernelspec": {
   "display_name": "Python 3",
   "language": "python",
   "name": "python3"
  },
  "language_info": {
   "codemirror_mode": {
    "name": "ipython",
    "version": 3
   },
   "file_extension": ".py",
   "mimetype": "text/x-python",
   "name": "python",
   "nbconvert_exporter": "python",
   "pygments_lexer": "ipython3",
   "version": "3.7.3"
  }
 },
 "nbformat": 4,
 "nbformat_minor": 2
}
