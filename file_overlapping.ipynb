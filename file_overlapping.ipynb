{
 "cells": [
  {
   "cell_type": "code",
   "execution_count": 31,
   "metadata": {},
   "outputs": [
    {
     "name": "stdout",
     "output_type": "stream",
     "text": [
      "Enter lower range: 1\n",
      "Enter upper range: 1000\n",
      "done\n"
     ]
    }
   ],
   "source": [
    "#to create a file with all prime number under 1000\n",
    "lower = int(input(\"Enter lower range: \"))\n",
    "upper = int(input(\"Enter upper range: \"))\n",
    "\n",
    "\n",
    "with open(\"primeno.txt\",\"w\") as fwrite:\n",
    "    for num in range(lower,upper + 1):\n",
    "        if num > 1:\n",
    "            flag=True\n",
    "            for i in range(2,num):\n",
    "                if (num % i) == 0:\n",
    "                    flag=False\n",
    "                    break\n",
    "            if flag==True:\n",
    "                fwrite.write(str(num)+',')   \n",
    "              \n",
    "                \n",
    "print(\"done\")               "
   ]
  },
  {
   "cell_type": "code",
   "execution_count": 32,
   "metadata": {},
   "outputs": [
    {
     "name": "stdout",
     "output_type": "stream",
     "text": [
      "Enter lower range: 1\n",
      "Enter upper range: 1000\n",
      "done\n"
     ]
    }
   ],
   "source": [
    "#to create a file with all happy number under 1000\n",
    "lower = int(input(\"Enter lower range: \"))\n",
    "upper = int(input(\"Enter upper range: \"))\n",
    "\n",
    "\n",
    "with open(\"happyno.txt\",\"w\") as fwrite:\n",
    "    for num in range(lower,upper + 1):\n",
    "        temp=num\n",
    "        total=0\n",
    "        while(temp!=4 and temp!=1):\n",
    "            while(temp>0):\n",
    "                r=temp%10\n",
    "                total=total+(r**2)\n",
    "                temp=int(temp/10)\n",
    "            temp=total\n",
    "            total=0\n",
    "        if temp==1:\n",
    "            fwrite.write(str(num)+',')\n",
    "print(\"done\")       "
   ]
  },
  {
   "cell_type": "code",
   "execution_count": 35,
   "metadata": {},
   "outputs": [
    {
     "name": "stdout",
     "output_type": "stream",
     "text": [
      "i  1,7,10,13,19,23,28,31,32,44,49,68,70,79,82,86,91,94,97,100,103,109,129,130,133,139,167,176,188,190,192,193,203,208,219,226,230,236,239,262,263,280,291,293,301,302,310,313,319,320,326,329,331,338,356,362,365,367,368,376,379,383,386,391,392,397,404,409,440,446,464,469,478,487,490,496,536,556,563,565,566,608,617,622,623,632,635,637,638,644,649,653,655,656,665,671,673,680,683,694,700,709,716,736,739,748,761,763,784,790,793,802,806,818,820,833,836,847,860,863,874,881,888,899,901,904,907,910,912,913,921,923,931,932,937,940,946,964,970,973,989,998,1000,\n",
      "total no of common 0\n"
     ]
    }
   ],
   "source": [
    "happyno=open(\"happyno.txt\",\"r\")\n",
    "primeno=open(\"primeno.txt\",\"r\")\n",
    "count=0\n",
    "for i in happyno:\n",
    "    print(\"i \",i)\n",
    "    for x in primeno:\n",
    "        if x==i:\n",
    "            count=count+1\n",
    "    primeno.seek(0)       \n",
    "print(\"total no of common\",count)"
   ]
  },
  {
   "cell_type": "code",
   "execution_count": null,
   "metadata": {},
   "outputs": [],
   "source": []
  }
 ],
 "metadata": {
  "kernelspec": {
   "display_name": "Python 3",
   "language": "python",
   "name": "python3"
  },
  "language_info": {
   "codemirror_mode": {
    "name": "ipython",
    "version": 3
   },
   "file_extension": ".py",
   "mimetype": "text/x-python",
   "name": "python",
   "nbconvert_exporter": "python",
   "pygments_lexer": "ipython3",
   "version": "3.7.3"
  }
 },
 "nbformat": 4,
 "nbformat_minor": 2
}
