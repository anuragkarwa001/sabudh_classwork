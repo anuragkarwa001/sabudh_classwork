{
 "cells": [
  {
   "cell_type": "code",
   "execution_count": 12,
   "metadata": {},
   "outputs": [
    {
     "name": "stdout",
     "output_type": "stream",
     "text": [
      "enter the number 100\n",
      "100 is a happy number\n"
     ]
    }
   ],
   "source": [
    "\"\"\"\n",
    "A happy number is defined by the following process: Starting with any positive integer,\n",
    "replace the number by the sum of the squares of its digits in base-ten, \n",
    "and repeat the process until the number either equals 1, or it loops endlessly in a cycle that does not include 1\n",
    "if the number equals to 4 then it can never be a happy number \n",
    "\"\"\"\n",
    "\n",
    "# num is the variable in which original number will be stored \n",
    "num=int(input(\"enter the number \"))\n",
    "#temp makes copy of original number entered by the user so that it can be modified \n",
    "temp=num\n",
    "#total is a variable which stores the sum of squares of digits of the number \n",
    "total=0\n",
    "#outer while loops until the sum of the squares becomes 1(is happy number ) or 4(not a happy number )\n",
    "while(temp!=4 and temp!=1):\n",
    "    #inner while calculates the sum of the squares of the digits of the number and stores in total \n",
    "    while(temp>0):\n",
    "        r=temp%10\n",
    "        total=total+(r**2)\n",
    "        temp=int(temp/10)\n",
    "    #temp number is uppdated to the sum of the squares of the digits of the number     \n",
    "    temp=total\n",
    "    #total is again set to zero so that it can be used again to calculate the sum of squares of digits\n",
    "    total=0\n",
    "    \n",
    "if temp==1:\n",
    "    print(\"%d is a happy number\"%num)\n",
    "else :\n",
    "    print(\"not happy\")"
   ]
  },
  {
   "cell_type": "code",
   "execution_count": null,
   "metadata": {},
   "outputs": [],
   "source": []
  },
  {
   "cell_type": "code",
   "execution_count": null,
   "metadata": {},
   "outputs": [],
   "source": []
  }
 ],
 "metadata": {
  "kernelspec": {
   "display_name": "Python 3",
   "language": "python",
   "name": "python3"
  },
  "language_info": {
   "codemirror_mode": {
    "name": "ipython",
    "version": 3
   },
   "file_extension": ".py",
   "mimetype": "text/x-python",
   "name": "python",
   "nbconvert_exporter": "python",
   "pygments_lexer": "ipython3",
   "version": "3.7.3"
  }
 },
 "nbformat": 4,
 "nbformat_minor": 2
}
